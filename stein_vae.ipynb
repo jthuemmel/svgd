{
 "cells": [
  {
   "cell_type": "code",
   "execution_count": 1,
   "metadata": {},
   "outputs": [
    {
     "name": "stderr",
     "output_type": "stream",
     "text": [
      "Using TensorFlow backend.\n"
     ]
    }
   ],
   "source": [
    "import numpy as np\n",
    "import scipy.spatial.distance as distance\n",
    "import scipy.stats as stats\n",
    "import matplotlib.pyplot as plt\n",
    "import keras as K\n",
    "import tensorflow as tf"
   ]
  },
  {
   "cell_type": "code",
   "execution_count": 2,
   "metadata": {},
   "outputs": [],
   "source": [
    "from keras.datasets import mnist"
   ]
  },
  {
   "cell_type": "code",
   "execution_count": 3,
   "metadata": {},
   "outputs": [],
   "source": [
    "from keras.layers import Input, Dense\n",
    "from keras.models import Model\n",
    "from keras.initializers import RandomNormal"
   ]
  },
  {
   "cell_type": "code",
   "execution_count": 4,
   "metadata": {},
   "outputs": [],
   "source": [
    "(x_train_f, y_train_f), (x_test, y_test) = mnist.load_data()\n",
    "\n",
    "num_samples = x_train_f.shape[0]\n",
    "num_val = 10000\n",
    "num_train = num_samples - num_val\n",
    "\n",
    "orig_dim = x_train_f.shape[1:] #useful for restoring original images\n",
    "flat_dim = orig_dim[0] * orig_dim[1] #input dimension\n",
    "\n",
    "shuffle_idx = np.random.permutation(num_samples)\n",
    "x_val = np.round(x_train_f[shuffle_idx[:num_val]].copy().reshape(-1,flat_dim) / 255)\n",
    "y_val = y_train_f[shuffle_idx[:num_val]].copy()\n",
    "x_train = np.round(x_train_f[shuffle_idx[num_val:]].copy().reshape(-1,flat_dim) / 255)\n",
    "y_train = y_train_f[shuffle_idx[num_val:]].copy()"
   ]
  },
  {
   "cell_type": "code",
   "execution_count": 5,
   "metadata": {},
   "outputs": [],
   "source": [
    "class encoder_network():\n",
    "    def __init__(self,sess,n_parts, input_dim, output_dim, n_hidden =400, mu = 0, sigma = 1):\n",
    "        self.n_parts = n_parts\n",
    "        self.n_hidden = n_hidden\n",
    "        self.input_dim = input_dim\n",
    "        self.output_dim = output_dim\n",
    "        self.mu = mu\n",
    "        self.sigma = sigma\n",
    "        \n",
    "        self.sess = sess\n",
    "        \n",
    "        self.model = self.build_network()\n",
    "        self.eta_grad = self.build_grad()\n",
    "    \n",
    "        self.sess.run(tf.global_variables_initializer())\n",
    "        \n",
    "    def build_network(self):\n",
    "        encoder_inputs = Input(batch_shape=(None,self.input_dim,))\n",
    "        encoder_hidden = Dense(self.n_hidden, activation='tanh',\n",
    "                       kernel_initializer = RandomNormal(self.mu,self.sigma),\n",
    "                               bias_initializer = RandomNormal(self.mu,self.sigma))(encoder_inputs)\n",
    "        encoder_output = Dense(self.output_dim,#activation='sigmoid',\n",
    "                       kernel_initializer = RandomNormal(self.mu,self.sigma),\n",
    "                               bias_initializer = RandomNormal(self.mu,self.sigma))(encoder_hidden)\n",
    "        encoder = Model(inputs = encoder_inputs, outputs = encoder_output)\n",
    "        \n",
    "        return encoder\n",
    "    \n",
    "    def build_grad(self):\n",
    "        grads = []\n",
    "        for eta in self.model.trainable_weights:\n",
    "            a = []\n",
    "            for i in range(self.n_parts):\n",
    "                b = []\n",
    "                for j in range(self.output_dim):\n",
    "                    b.append(tf.gradients(self.model.output[i,j],eta))\n",
    "                a.append(b)\n",
    "            grads.append(a)\n",
    "        return grads\n",
    "            \n",
    "    def eval_eta_grad(self,x_in):\n",
    "        return self.sess.run(self.eta_grad, feed_dict={self.model.input : x_in})"
   ]
  },
  {
   "cell_type": "code",
   "execution_count": 6,
   "metadata": {},
   "outputs": [],
   "source": [
    "class decoder_network():\n",
    "    def __init__(self,sess,n_parts,input_dim,output_dim,n_hidden = 400, mu = 0, sigma = 1):\n",
    "        self.n_parts = n_parts\n",
    "        self.n_hidden = n_hidden\n",
    "        self.input_dim = input_dim\n",
    "        self.output_dim = output_dim\n",
    "        self.mu = mu\n",
    "        self.sigma = sigma\n",
    "        \n",
    "        self.sess = sess\n",
    "        \n",
    "        self.model = self.build_network()\n",
    "        \n",
    "        self.x_real = tf.placeholder(tf.float32, shape=(self.output_dim,))\n",
    "        self.logpxz = self.eval_logpxz(self.x_real, self.model.output)\n",
    "        \n",
    "        self.theta_grad = tf.gradients(self.logpxz, self.model.trainable_weights)\n",
    "        self.z_grad = tf.gradients(self.logpxz, self.model.input)\n",
    "        \n",
    "        self.sess.run(tf.global_variables_initializer())\n",
    "        \n",
    "    def build_network(self):\n",
    "        decoder_inputs = Input(batch_shape=(None, self.input_dim))\n",
    "        decoder_hidden = Dense(self.n_hidden,activation='tanh',\n",
    "                               kernel_initializer = RandomNormal(self.mu,self.sigma),\n",
    "                               bias_initializer = RandomNormal(self.mu,self.sigma))(decoder_inputs)\n",
    "        decoder_output = Dense(self.output_dim, activation='sigmoid',\n",
    "                               kernel_initializer = RandomNormal(self.mu,self.sigma),\n",
    "                               bias_initializer = RandomNormal(self.mu,self.sigma))(decoder_hidden)\n",
    "        decoder = Model(inputs = decoder_inputs, outputs = decoder_output)\n",
    "        return decoder\n",
    "    \n",
    "    # grad with respect to theta of log p(x|z)\n",
    "    def eval_theta_grad(self,z,x_in):\n",
    "        return self.sess.run(self.theta_grad,feed_dict={self.model.input:z, self.x_real:x_in})\n",
    "    \n",
    "    # grad with respect to z of log p(x|z)\n",
    "    def eval_z_grad(self,z,x_in):\n",
    "        return self.sess.run(self.z_grad,feed_dict={self.model.input:z, self.x_real:x_in})\n",
    "    \n",
    "    def eval_logpxz(self, x_real, x_rec):\n",
    "        x_real = tf.reshape(x_real,(1,self.output_dim))\n",
    "        X_real = tf.tile(x_real,(self.n_parts,1))\n",
    "        x_rec  = tf.reshape(x_rec,(self.n_parts,self.output_dim))\n",
    "        \n",
    "        fudge = 1e-15\n",
    "        \n",
    "        part1 = X_real * tf.log(x_rec + fudge)\n",
    "        part2 = (1-X_real) * tf.log(1-x_rec + fudge)\n",
    "        \n",
    "        logpxz = tf.reduce_sum(tf.where(X_real==1, part1, part2), axis=1)\n",
    "        \n",
    "        return logpxz"
   ]
  },
  {
   "cell_type": "code",
   "execution_count": 7,
   "metadata": {},
   "outputs": [],
   "source": [
    "def rbf_kernel(x,h = -1):\n",
    "        dist_mat = distance.squareform(distance.pdist(x)) **2 #use scipy package to calculate pairwise euclidean distance mat\n",
    "\n",
    "        if h < 0 : #as suggested in the paper, calculate bandwith like so\n",
    "            h = np.sqrt(0.5*np.median(dist_mat) / np.log(x.shape[0]+1))\n",
    "\n",
    "        kxy = np.exp(-dist_mat / h**2 /2) #rbf kernel formula\n",
    "\n",
    "        dkxy = -np.matmul(kxy , x) #first part of derivative of kxy\n",
    "        for i in range(x.shape[1]): #second part of derivative of kxy\n",
    "            dkxy[:,i] += x[:,i] * np.sum(kxy,axis=1)\n",
    "        dkxy /= h**2\n",
    "        return kxy, dkxy"
   ]
  },
  {
   "cell_type": "code",
   "execution_count": 8,
   "metadata": {},
   "outputs": [],
   "source": [
    "def extend_input(x_input, loc, scale, n_parts):\n",
    "    \n",
    "    xsi = np.random.normal(loc,scale,size=(n_parts,1))\n",
    "    x_extended = np.tile(x_input,(n_parts,1))\n",
    "    \n",
    "    assert np.shape(x_extended) == (n_parts, np.size(x_input))\n",
    "\n",
    "    return np.hstack((x_extended,xsi))"
   ]
  },
  {
   "cell_type": "code",
   "execution_count": null,
   "metadata": {
    "collapsed": true
   },
   "outputs": [],
   "source": []
  },
  {
   "cell_type": "code",
   "execution_count": 9,
   "metadata": {},
   "outputs": [],
   "source": [
    "batch_size = 1\n",
    "iters = 1\n",
    "n_parts = 50\n",
    "\n",
    "epsilon = 1e-3\n",
    "\n",
    "input_dim = flat_dim +1\n",
    "latent_dim = 32\n",
    "n_hidden = 400\n",
    "\n",
    "loc = 0\n",
    "scale = 1"
   ]
  },
  {
   "cell_type": "code",
   "execution_count": null,
   "metadata": {
    "scrolled": false
   },
   "outputs": [],
   "source": [
    "tf.reset_default_graph()\n",
    "\n",
    "sess = tf.InteractiveSession()\n",
    "\n",
    "encoder = encoder_network(sess, n_parts, input_dim, latent_dim)\n",
    "decoder = decoder_network(sess, n_parts, latent_dim, flat_dim)\n",
    "\n",
    "for t in range(iters):\n",
    "    x_input = extend_input(x_train[t],loc, scale, n_parts)\n",
    "\n",
    "    z = encoder.model.predict(x_input,batch_size=n_parts)\n",
    "   \n",
    "    z_grad = decoder.eval_z_grad(z,x_train[t])\n",
    "    z_grad = np.array(z_grad).reshape(n_parts,latent_dim)\n",
    "        \n",
    "    kzy, dkzy = rbf_kernel(z)\n",
    "    phi = (kzy @ (z_grad - z) + dkzy) / n_parts\n",
    "    \n",
    "    eta_grad = encoder.eval_eta_grad(x_input)\n",
    "    theta_grad = decoder.eval_theta_grad(z,x_train[t])\n",
    "    \n",
    "    eta_1 = []\n",
    "    for i,eta in enumerate(encoder.model.get_weights()):\n",
    "        a = np.array(eta_grad[i]).reshape(n_parts,latent_dim,-1)\n",
    "        b = np.array([np.matmul(phi[j,:].reshape(1,latent_dim),a[j,:,:]) for j in range(n_parts)])\n",
    "        \n",
    "        eta_1.append(eta + epsilon * np.sum(b,axis=0).reshape(eta.shape))\n",
    "    encoder.model.set_weights(eta_1)\n",
    "        \n",
    "    theta_1 = []\n",
    "    for i,theta in enumerate(decoder.model.get_weights()):\n",
    "        theta_1.append(theta + [(1/n_parts) * c for c in theta_grad[i]])\n",
    "    decoder.model.set_weights(theta_1) "
   ]
  },
  {
   "cell_type": "code",
   "execution_count": null,
   "metadata": {},
   "outputs": [],
   "source": []
  },
  {
   "cell_type": "code",
   "execution_count": 196,
   "metadata": {},
   "outputs": [],
   "source": [
    "z = encoder.model.predict(extend_input(x_train[0],loc, scale, n_parts))\n",
    "x_rec = decoder.model.predict(z)"
   ]
  },
  {
   "cell_type": "code",
   "execution_count": 198,
   "metadata": {},
   "outputs": [
    {
     "data": {
      "text/plain": [
       "array([[-105.636734, -167.70512 ],\n",
       "       [-105.670685, -167.72641 ],\n",
       "       [-107.27295 , -169.04385 ],\n",
       "       [-103.63212 , -164.25671 ],\n",
       "       [-103.535286, -166.4652  ],\n",
       "       [-104.16021 , -166.84062 ],\n",
       "       [-104.0012  , -172.4416  ],\n",
       "       [-107.24133 , -169.72041 ],\n",
       "       [-107.08359 , -168.7988  ],\n",
       "       [-106.50993 , -168.29836 ],\n",
       "       [-104.58394 , -172.1125  ],\n",
       "       [-107.361206, -169.2533  ],\n",
       "       [-106.50129 , -168.29185 ],\n",
       "       [-106.76161 , -168.49771 ],\n",
       "       [-104.45932 , -167.01114 ],\n",
       "       [-104.44052 , -172.20468 ],\n",
       "       [-107.32366 , -169.57939 ],\n",
       "       [-106.70454 , -170.28314 ],\n",
       "       [-106.49428 , -170.47859 ],\n",
       "       [-107.370316, -169.30583 ],\n",
       "       [-106.99791 , -170.00095 ],\n",
       "       [-103.4195  , -172.64142 ],\n",
       "       [-107.32479 , -169.57689 ],\n",
       "       [-107.10983 , -168.82768 ],\n",
       "       [-104.90375 , -171.88371 ],\n",
       "       [-107.372055, -169.32307 ],\n",
       "       [-107.34802 , -169.51746 ],\n",
       "       [-103.84361 , -166.65627 ],\n",
       "       [-106.41113 , -168.22496 ],\n",
       "       [-106.08897 , -167.99875 ],\n",
       "       [-103.46016 , -164.47609 ],\n",
       "       [-105.19299 , -167.43507 ],\n",
       "       [-106.74085 , -168.48042 ],\n",
       "       [-106.467514, -170.5034  ],\n",
       "       [-107.25197 , -169.705   ],\n",
       "       [-107.31563 , -169.12337 ],\n",
       "       [-107.37291 , -169.33516 ],\n",
       "       [-106.14795 , -170.79951 ],\n",
       "       [-102.96983 , -165.98866 ],\n",
       "       [-107.37274 , -169.39261 ],\n",
       "       [-107.24339 , -168.9974  ],\n",
       "       [-103.62432 , -166.52223 ],\n",
       "       [-103.78792 , -164.05882 ],\n",
       "       [-107.3733  , -169.343   ],\n",
       "       [-106.86195 , -170.13446 ],\n",
       "       [-103.47819 , -172.62743 ],\n",
       "       [-106.84148 , -168.56601 ],\n",
       "       [-103.40657 , -166.37857 ],\n",
       "       [-106.912704, -170.08539 ],\n",
       "       [-107.28512 , -169.6528  ]], dtype=float32)"
      ]
     },
     "execution_count": 198,
     "metadata": {},
     "output_type": "execute_result"
    }
   ],
   "source": [
    "z"
   ]
  },
  {
   "cell_type": "code",
   "execution_count": 121,
   "metadata": {},
   "outputs": [
    {
     "data": {
      "image/png": "[encoded data removed]",
      "text/plain": [
       "<matplotlib.figure.Figure at 0x2013dac8>"
      ]
     },
     "metadata": {},
     "output_type": "display_data"
    },
    {
     "data": {
      "image/png": "[encoded data removed]",
      "text/plain": [
       "<matplotlib.figure.Figure at 0xb5bb70>"
      ]
     },
     "metadata": {},
     "output_type": "display_data"
    }
   ],
   "source": [
    "plt.imshow(x_train[0].reshape(28,28))\n",
    "plt.show()\n",
    "plt.imshow(x_rec[0,:].reshape(28,28))\n",
    "plt.show()"
   ]
  },
  {
   "cell_type": "code",
   "execution_count": null,
   "metadata": {},
   "outputs": [],
   "source": []
  },
  {
   "cell_type": "code",
   "execution_count": null,
   "metadata": {},
   "outputs": [],
   "source": []
  },
  {
   "cell_type": "code",
   "execution_count": null,
   "metadata": {
    "collapsed": true
   },
   "outputs": [],
   "source": [
    "z_test = np.random.normal(size=[2,])\n",
    "test_prediction = decoder.model.predict(z)"
   ]
  },
  {
   "cell_type": "code",
   "execution_count": null,
   "metadata": {
    "collapsed": true
   },
   "outputs": [],
   "source": []
  },
  {
   "cell_type": "code",
   "execution_count": null,
   "metadata": {},
   "outputs": [],
   "source": []
  },
  {
   "cell_type": "code",
   "execution_count": null,
   "metadata": {},
   "outputs": [],
   "source": []
  },
  {
   "cell_type": "code",
   "execution_count": null,
   "metadata": {},
   "outputs": [],
   "source": []
  },
  {
   "cell_type": "code",
   "execution_count": null,
   "metadata": {},
   "outputs": [],
   "source": []
  },
  {
   "cell_type": "code",
   "execution_count": null,
   "metadata": {
    "collapsed": true
   },
   "outputs": [],
   "source": []
  },
  {
   "cell_type": "code",
   "execution_count": null,
   "metadata": {
    "collapsed": true
   },
   "outputs": [],
   "source": []
  }
 ],
 "metadata": {
  "kernelspec": {
   "display_name": "Python 3",
   "language": "python",
   "name": "python3"
  },
  "language_info": {
   "codemirror_mode": {
    "name": "ipython",
    "version": 3
   },
   "file_extension": ".py",
   "mimetype": "text/x-python",
   "name": "python",
   "nbconvert_exporter": "python",
   "pygments_lexer": "ipython3",
   "version": "3.6.7"
  }
 },
 "nbformat": 4,
 "nbformat_minor": 2
}
