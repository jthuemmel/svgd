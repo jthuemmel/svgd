{
 "cells": [
  {
   "cell_type": "code",
   "execution_count": 1,
   "metadata": {},
   "outputs": [
    {
     "name": "stderr",
     "output_type": "stream",
     "text": [
      "Using TensorFlow backend.\n"
     ]
    }
   ],
   "source": [
    "import numpy as np\n",
    "import scipy.spatial.distance as distance\n",
    "import scipy.stats as stats\n",
    "import matplotlib.pyplot as plt\n",
    "import keras as K\n",
    "import tensorflow as tf"
   ]
  },
  {
   "cell_type": "code",
   "execution_count": 2,
   "metadata": {},
   "outputs": [],
   "source": [
    "from keras.datasets import mnist"
   ]
  },
  {
   "cell_type": "code",
   "execution_count": 116,
   "metadata": {},
   "outputs": [],
   "source": [
    "from keras.layers import Input, Dense, Dropout\n",
    "from keras.models import Model\n",
    "from keras.initializers import RandomNormal"
   ]
  },
  {
   "cell_type": "code",
   "execution_count": 189,
   "metadata": {},
   "outputs": [],
   "source": [
    "class encoder_network():\n",
    "    def __init__(self,sess,n_parts, input_dim, output_dim, n_hidden =400,rate = 0.3, mu = 0, sigma = 1):\n",
    "        self.n_parts = n_parts\n",
    "        self.n_hidden = n_hidden\n",
    "        self.input_dim = input_dim\n",
    "        self.output_dim = output_dim\n",
    "        self.rate = rate\n",
    "        self.mu = mu\n",
    "        self.sigma = sigma\n",
    "        \n",
    "        self.sess = sess\n",
    "        \n",
    "        self.phi = tf.placeholder(tf.float32,shape=(n_parts,self.output_dim))\n",
    "        self.model = self.build_network()\n",
    "        self.eta_grad = tf.gradients(tf.multiply(tf.stop_gradient(self.phi), self.model.output),self.model.trainable_weights)\n",
    "    \n",
    "        self.sess.run(tf.global_variables_initializer())\n",
    "        \n",
    "    def build_network(self):\n",
    "        encoder_inputs = Input(batch_shape=(self.n_parts,self.input_dim,))\n",
    "        #encoder_inputs = Dropout(self.rate,input_shape=(None, self.input_dim))\n",
    "        encoder_hidden = Dense(self.n_hidden, activation='tanh',\n",
    "                       kernel_initializer = RandomNormal(self.mu,self.sigma),\n",
    "                               bias_initializer = RandomNormal(self.mu,self.sigma))(encoder_inputs)\n",
    "        encoder_hidden = Dropout(self.rate)(encoder_hidden)\n",
    "        encoder_output = Dense(self.output_dim,\n",
    "                       kernel_initializer = RandomNormal(self.mu,self.sigma),\n",
    "                               bias_initializer = RandomNormal(self.mu,self.sigma))(encoder_hidden)\n",
    "        encoder = Model(inputs = encoder_inputs, outputs = encoder_output)\n",
    "        \n",
    "        return encoder\n",
    "            \n",
    "    def eval_eta_grad(self,x_in,phi):\n",
    "        return self.sess.run(self.eta_grad, feed_dict={self.model.input : x_in,self.phi : phi})"
   ]
  },
  {
   "cell_type": "code",
   "execution_count": 257,
   "metadata": {},
   "outputs": [],
   "source": [
    "class decoder_network():\n",
    "    def __init__(self,sess,n_parts,input_dim,output_dim,n_hidden = 400,rate = 0.3, mu = 0, sigma = 1):\n",
    "        self.n_parts = n_parts\n",
    "        self.n_hidden = n_hidden\n",
    "        self.input_dim = input_dim\n",
    "        self.output_dim = output_dim\n",
    "        self.rate = rate\n",
    "        self.mu = mu\n",
    "        self.sigma = sigma\n",
    "        \n",
    "        self.sess = sess\n",
    "        \n",
    "        self.model = self.build_network()\n",
    "        \n",
    "        self.x_real = tf.placeholder(tf.float32, shape=(self.output_dim,))\n",
    "        \n",
    "        self.logpxz= tf.placeholder(tf.float32,shape=(self.output_dim,))\n",
    "#        self.logpxz = self.eval_logpxz(self.x_real, self.model.output)\n",
    "        \n",
    "        self.theta_grad = tf.gradients(self.logpxz, self.model.trainable_weights)\n",
    "        self.z_grad = tf.gradients(self.logpxz, self.model.input)\n",
    "        \n",
    "        self.sess.run(tf.global_variables_initializer())\n",
    "        \n",
    "    def build_network(self):\n",
    "        decoder_inputs = Input(batch_shape=(None, self.input_dim))\n",
    "        #decoder_inputs = Dropout(self.rate,input_shape=(None, self.input_dim))\n",
    "        decoder_hidden = Dense(self.n_hidden,activation='tanh',\n",
    "                               kernel_initializer = RandomNormal(self.mu,self.sigma),\n",
    "                               bias_initializer = RandomNormal(self.mu,self.sigma))(decoder_inputs)\n",
    "        decoder_hidden = Dropout(self.rate)(decoder_hidden)\n",
    "        decoder_output = Dense(self.output_dim, activation='sigmoid',\n",
    "                               kernel_initializer = RandomNormal(self.mu,self.sigma),\n",
    "                               bias_initializer = RandomNormal(self.mu,self.sigma))(decoder_hidden)\n",
    "        decoder = Model(inputs = decoder_inputs, outputs = decoder_output)\n",
    "        return decoder        \n",
    "    \n",
    "    # grad with respect to theta of log p(x|z)\n",
    "    def eval_theta_grad(self,z,x_in):\n",
    "        return self.sess.run(self.theta_grad,feed_dict={self.model.input:z, self.x_real:x_in})\n",
    "    def debug_theta_grad(self,logpxz):\n",
    "        return self.sess.run(self.theta_grad,feed_dict={self.logpxz:logpxz})\n",
    "    # grad with respect to z of log p(x|z)\n",
    "    def eval_z_grad(self,z,x_in):\n",
    "        return self.sess.run(self.z_grad,feed_dict={self.model.input:z, self.x_real:x_in})\n",
    "    \n",
    "    def debug_z_grad(self,logpxz,z):\n",
    "        return self.sess.run(self.z_grad,feed_dict ={self.logpxz:logpxz,self.model.input :z})\n",
    "    \n",
    "    def eval_logpxz(self, x_real, x_rec):\n",
    "        x_real = tf.reshape(x_real,(1,self.output_dim))\n",
    "        X_real = tf.tile(x_real,(self.n_parts,1))\n",
    "        x_rec  = tf.reshape(x_rec,(self.n_parts,self.output_dim))\n",
    "        \n",
    "        fudge = 1e-15\n",
    "        \n",
    "        part1 = X_real * tf.log(x_rec + fudge)\n",
    "        part2 = (1-X_real) * tf.log(1-x_rec + fudge)\n",
    "        \n",
    "        logpxz = tf.reduce_sum(tf.where(X_real==1, part1, part2), axis=1)\n",
    "        \n",
    "        return logpxz"
   ]
  },
  {
   "cell_type": "code",
   "execution_count": 6,
   "metadata": {},
   "outputs": [],
   "source": [
    "def rbf_kernel(x,h = -1):\n",
    "        dist_mat = distance.squareform(distance.pdist(x)) **2 #use scipy package to calculate pairwise euclidean distance mat\n",
    "\n",
    "        if h < 0 : #as suggested in the paper, calculate bandwith like so\n",
    "            h = np.sqrt(0.5*np.median(dist_mat) / np.log(x.shape[0]+1))\n",
    "\n",
    "        kxy = np.exp(-dist_mat / h**2 /2) #rbf kernel formula\n",
    "\n",
    "        dkxy = -np.matmul(kxy , x) #first part of derivative of kxy\n",
    "        for i in range(x.shape[1]): #second part of derivative of kxy\n",
    "            dkxy[:,i] += x[:,i] * np.sum(kxy,axis=1)\n",
    "        dkxy /= h**2\n",
    "        return kxy, dkxy"
   ]
  },
  {
   "cell_type": "code",
   "execution_count": 7,
   "metadata": {},
   "outputs": [],
   "source": [
    "def extend_input(x_input, loc, scale, n_parts):\n",
    "    \n",
    "    xsi = np.random.normal(loc,scale,size=(n_parts,1))\n",
    "    x_extended = np.tile(x_input,(n_parts,1))\n",
    "    \n",
    "    assert np.shape(x_extended) == (n_parts, np.size(x_input))\n",
    "\n",
    "    return np.hstack((x_extended,xsi))"
   ]
  },
  {
   "cell_type": "code",
   "execution_count": 65,
   "metadata": {},
   "outputs": [],
   "source": [
    "(x_train_f, y_train_f), (x_test, y_test) = mnist.load_data()"
   ]
  },
  {
   "cell_type": "code",
   "execution_count": 206,
   "metadata": {},
   "outputs": [],
   "source": [
    "batch_size = 1\n",
    "iters = 1000\n",
    "n_parts = 5\n",
    "latent_dim = 2\n",
    "n_hidden = 400\n",
    "\n",
    "loc = 0\n",
    "scale = 1\n",
    "epsilon = 1e-4\n",
    "\n",
    "num_samples = x_train_f.shape[0]\n",
    "num_val = 10000\n",
    "num_train = num_samples - num_val\n",
    "\n",
    "orig_dim = x_train_f.shape[1:] #useful for restoring original images\n",
    "flat_dim = orig_dim[0] * orig_dim[1] #output dimension\n",
    "input_dim = flat_dim +1 #input dimension\n",
    "\n",
    "shuffle_idx = np.random.permutation(num_samples)\n",
    "x_val = np.round(x_train_f[shuffle_idx[:num_val]].copy().reshape(-1,flat_dim) / 255)\n",
    "y_val = y_train_f[shuffle_idx[:num_val]].copy()\n",
    "x_train = np.round(x_train_f[shuffle_idx[num_val:]].copy().reshape(-1,flat_dim) / 255)\n",
    "y_train = y_train_f[shuffle_idx[num_val:]].copy()"
   ]
  },
  {
   "cell_type": "code",
   "execution_count": 258,
   "metadata": {},
   "outputs": [],
   "source": [
    "tf.reset_default_graph()\n",
    "\n",
    "sess = tf.InteractiveSession()\n",
    "\n",
    "encoder = encoder_network(sess, n_parts, input_dim, latent_dim)\n",
    "decoder = decoder_network(sess, n_parts, latent_dim, flat_dim)"
   ]
  },
  {
   "cell_type": "code",
   "execution_count": 251,
   "metadata": {},
   "outputs": [
    {
     "data": {
      "text/plain": [
       "dtype('float64')"
      ]
     },
     "execution_count": 251,
     "metadata": {},
     "output_type": "execute_result"
    }
   ],
   "source": []
  },
  {
   "cell_type": "code",
   "execution_count": 259,
   "metadata": {
    "scrolled": false
   },
   "outputs": [
    {
     "ename": "TypeError",
     "evalue": "The value of a feed cannot be a tf.Tensor object. Acceptable feed values include Python scalars, strings, lists, numpy ndarrays, or TensorHandles.For reference, the tensor object was Tensor(\"Sum:0\", shape=(5,), dtype=float32) which was passed to the feed with key Tensor(\"Placeholder_2:0\", shape=(784,), dtype=float32).",
     "output_type": "error",
     "traceback": [
      "\u001b[1;31m---------------------------------------------------------------------------\u001b[0m",
      "\u001b[1;31mTypeError\u001b[0m                                 Traceback (most recent call last)",
      "\u001b[1;32m<ipython-input-259-5e3730960525>\u001b[0m in \u001b[0;36m<module>\u001b[1;34m\u001b[0m\n\u001b[0;32m      6\u001b[0m     \u001b[0mx_rec\u001b[0m \u001b[1;33m=\u001b[0m \u001b[0mdecoder\u001b[0m\u001b[1;33m.\u001b[0m\u001b[0mmodel\u001b[0m\u001b[1;33m.\u001b[0m\u001b[0mpredict\u001b[0m\u001b[1;33m(\u001b[0m\u001b[0mz\u001b[0m\u001b[1;33m,\u001b[0m\u001b[0mbatch_size\u001b[0m\u001b[1;33m=\u001b[0m\u001b[0mn_parts\u001b[0m\u001b[1;33m)\u001b[0m\u001b[1;33m\u001b[0m\u001b[1;33m\u001b[0m\u001b[0m\n\u001b[0;32m      7\u001b[0m     \u001b[0mlogpxz\u001b[0m \u001b[1;33m=\u001b[0m \u001b[0mdecoder\u001b[0m\u001b[1;33m.\u001b[0m\u001b[0meval_logpxz\u001b[0m\u001b[1;33m(\u001b[0m\u001b[0mtf\u001b[0m\u001b[1;33m.\u001b[0m\u001b[0mcast\u001b[0m\u001b[1;33m(\u001b[0m\u001b[0mx_train\u001b[0m\u001b[1;33m[\u001b[0m\u001b[0mt\u001b[0m\u001b[1;33m]\u001b[0m\u001b[1;33m,\u001b[0m\u001b[0mdtype\u001b[0m\u001b[1;33m=\u001b[0m\u001b[0mtf\u001b[0m\u001b[1;33m.\u001b[0m\u001b[0mfloat32\u001b[0m\u001b[1;33m)\u001b[0m\u001b[1;33m,\u001b[0m\u001b[0mx_rec\u001b[0m\u001b[1;33m)\u001b[0m\u001b[1;33m\u001b[0m\u001b[1;33m\u001b[0m\u001b[0m\n\u001b[1;32m----> 8\u001b[1;33m     \u001b[0mz_grad\u001b[0m \u001b[1;33m=\u001b[0m \u001b[0mdecoder\u001b[0m\u001b[1;33m.\u001b[0m\u001b[0mdebug_z_grad\u001b[0m\u001b[1;33m(\u001b[0m\u001b[0mlogpxz\u001b[0m\u001b[1;33m,\u001b[0m\u001b[0mz\u001b[0m\u001b[1;33m)\u001b[0m\u001b[1;33m\u001b[0m\u001b[1;33m\u001b[0m\u001b[0m\n\u001b[0m\u001b[0;32m      9\u001b[0m     \u001b[0mtheta_grad\u001b[0m \u001b[1;33m=\u001b[0m \u001b[0mdecoder\u001b[0m\u001b[1;33m.\u001b[0m\u001b[0mdebug_theta_grad\u001b[0m\u001b[1;33m(\u001b[0m\u001b[0mlogpxz\u001b[0m\u001b[1;33m)\u001b[0m\u001b[1;33m\u001b[0m\u001b[1;33m\u001b[0m\u001b[0m\n\u001b[0;32m     10\u001b[0m \u001b[1;33m\u001b[0m\u001b[0m\n",
      "\u001b[1;32m<ipython-input-257-8d5e45a8a3f5>\u001b[0m in \u001b[0;36mdebug_z_grad\u001b[1;34m(self, logpxz, z)\u001b[0m\n\u001b[0;32m     46\u001b[0m \u001b[1;33m\u001b[0m\u001b[0m\n\u001b[0;32m     47\u001b[0m     \u001b[1;32mdef\u001b[0m \u001b[0mdebug_z_grad\u001b[0m\u001b[1;33m(\u001b[0m\u001b[0mself\u001b[0m\u001b[1;33m,\u001b[0m\u001b[0mlogpxz\u001b[0m\u001b[1;33m,\u001b[0m\u001b[0mz\u001b[0m\u001b[1;33m)\u001b[0m\u001b[1;33m:\u001b[0m\u001b[1;33m\u001b[0m\u001b[1;33m\u001b[0m\u001b[0m\n\u001b[1;32m---> 48\u001b[1;33m         \u001b[1;32mreturn\u001b[0m \u001b[0mself\u001b[0m\u001b[1;33m.\u001b[0m\u001b[0msess\u001b[0m\u001b[1;33m.\u001b[0m\u001b[0mrun\u001b[0m\u001b[1;33m(\u001b[0m\u001b[0mself\u001b[0m\u001b[1;33m.\u001b[0m\u001b[0mz_grad\u001b[0m\u001b[1;33m,\u001b[0m\u001b[0mfeed_dict\u001b[0m \u001b[1;33m=\u001b[0m\u001b[1;33m{\u001b[0m\u001b[0mself\u001b[0m\u001b[1;33m.\u001b[0m\u001b[0mlogpxz\u001b[0m\u001b[1;33m:\u001b[0m\u001b[0mlogpxz\u001b[0m\u001b[1;33m,\u001b[0m\u001b[0mself\u001b[0m\u001b[1;33m.\u001b[0m\u001b[0mmodel\u001b[0m\u001b[1;33m.\u001b[0m\u001b[0minput\u001b[0m \u001b[1;33m:\u001b[0m\u001b[0mz\u001b[0m\u001b[1;33m}\u001b[0m\u001b[1;33m)\u001b[0m\u001b[1;33m\u001b[0m\u001b[1;33m\u001b[0m\u001b[0m\n\u001b[0m\u001b[0;32m     49\u001b[0m \u001b[1;33m\u001b[0m\u001b[0m\n\u001b[0;32m     50\u001b[0m     \u001b[1;32mdef\u001b[0m \u001b[0meval_logpxz\u001b[0m\u001b[1;33m(\u001b[0m\u001b[0mself\u001b[0m\u001b[1;33m,\u001b[0m \u001b[0mx_real\u001b[0m\u001b[1;33m,\u001b[0m \u001b[0mx_rec\u001b[0m\u001b[1;33m)\u001b[0m\u001b[1;33m:\u001b[0m\u001b[1;33m\u001b[0m\u001b[1;33m\u001b[0m\u001b[0m\n",
      "\u001b[1;32m~\\Anaconda3\\envs\\tensorflow\\lib\\site-packages\\tensorflow\\python\\client\\session.py\u001b[0m in \u001b[0;36mrun\u001b[1;34m(self, fetches, feed_dict, options, run_metadata)\u001b[0m\n\u001b[0;32m    903\u001b[0m     \u001b[1;32mtry\u001b[0m\u001b[1;33m:\u001b[0m\u001b[1;33m\u001b[0m\u001b[1;33m\u001b[0m\u001b[0m\n\u001b[0;32m    904\u001b[0m       result = self._run(None, fetches, feed_dict, options_ptr,\n\u001b[1;32m--> 905\u001b[1;33m                          run_metadata_ptr)\n\u001b[0m\u001b[0;32m    906\u001b[0m       \u001b[1;32mif\u001b[0m \u001b[0mrun_metadata\u001b[0m\u001b[1;33m:\u001b[0m\u001b[1;33m\u001b[0m\u001b[1;33m\u001b[0m\u001b[0m\n\u001b[0;32m    907\u001b[0m         \u001b[0mproto_data\u001b[0m \u001b[1;33m=\u001b[0m \u001b[0mtf_session\u001b[0m\u001b[1;33m.\u001b[0m\u001b[0mTF_GetBuffer\u001b[0m\u001b[1;33m(\u001b[0m\u001b[0mrun_metadata_ptr\u001b[0m\u001b[1;33m)\u001b[0m\u001b[1;33m\u001b[0m\u001b[1;33m\u001b[0m\u001b[0m\n",
      "\u001b[1;32m~\\Anaconda3\\envs\\tensorflow\\lib\\site-packages\\tensorflow\\python\\client\\session.py\u001b[0m in \u001b[0;36m_run\u001b[1;34m(self, handle, fetches, feed_dict, options, run_metadata)\u001b[0m\n\u001b[0;32m   1089\u001b[0m                             \u001b[1;34m'For reference, the tensor object was '\u001b[0m \u001b[1;33m+\u001b[0m\u001b[1;33m\u001b[0m\u001b[1;33m\u001b[0m\u001b[0m\n\u001b[0;32m   1090\u001b[0m                             \u001b[0mstr\u001b[0m\u001b[1;33m(\u001b[0m\u001b[0mfeed_val\u001b[0m\u001b[1;33m)\u001b[0m \u001b[1;33m+\u001b[0m \u001b[1;34m' which was passed to the '\u001b[0m\u001b[1;33m\u001b[0m\u001b[1;33m\u001b[0m\u001b[0m\n\u001b[1;32m-> 1091\u001b[1;33m                             'feed with key ' + str(feed) + '.')\n\u001b[0m\u001b[0;32m   1092\u001b[0m \u001b[1;33m\u001b[0m\u001b[0m\n\u001b[0;32m   1093\u001b[0m           \u001b[0msubfeed_dtype\u001b[0m \u001b[1;33m=\u001b[0m \u001b[0msubfeed_t\u001b[0m\u001b[1;33m.\u001b[0m\u001b[0mdtype\u001b[0m\u001b[1;33m.\u001b[0m\u001b[0mas_numpy_dtype\u001b[0m\u001b[1;33m\u001b[0m\u001b[1;33m\u001b[0m\u001b[0m\n",
      "\u001b[1;31mTypeError\u001b[0m: The value of a feed cannot be a tf.Tensor object. Acceptable feed values include Python scalars, strings, lists, numpy ndarrays, or TensorHandles.For reference, the tensor object was Tensor(\"Sum:0\", shape=(5,), dtype=float32) which was passed to the feed with key Tensor(\"Placeholder_2:0\", shape=(784,), dtype=float32)."
     ]
    }
   ],
   "source": [
    "for t in range(iters):\n",
    "    x_input = extend_input(x_train[t],loc, scale, n_parts)\n",
    "\n",
    "    z = encoder.model.predict(x_input,batch_size=n_parts)\n",
    "    \n",
    "    x_rec = decoder.model.predict(z,batch_size=n_parts)\n",
    "    logpxz = decoder.eval_logpxz(tf.cast(x_train[t],dtype=tf.float32),x_rec)\n",
    "    z_grad = decoder.debug_z_grad(logpxz,z)\n",
    "    theta_grad = decoder.debug_theta_grad(logpxz)\n",
    "    \n",
    "#     z_grad = decoder.eval_z_grad(z,x_train[t])\n",
    "    z_grad = np.array(z_grad).reshape(n_parts,latent_dim)\n",
    "        \n",
    "    kzy, dkzy = rbf_kernel(z)\n",
    "    phi = (kzy @ (z_grad - z) + dkzy) / n_parts\n",
    "    \n",
    "    \n",
    "    eta_grad = encoder.eval_eta_grad(x_input,phi)\n",
    "    \n",
    "    eta_1 = []\n",
    "    for i,eta in enumerate(encoder.model.get_weights()):\n",
    "        eta_1.append(eta + epsilon * eta_grad[i])\n",
    "    \n",
    "    \n",
    "#     theta_grad = decoder.eval_theta_grad(z,x_train[t])\n",
    "    theta_1 = []\n",
    "    for i,theta in enumerate(decoder.model.get_weights()):\n",
    "        theta_1.append(theta + theta_grad[i] / n_parts)\n",
    "    decoder.model.set_weights(theta_1) "
   ]
  },
  {
   "cell_type": "code",
   "execution_count": 202,
   "metadata": {},
   "outputs": [],
   "source": [
    "test = extend_input(x_val[0],loc, scale, n_parts)\n",
    "z = encoder.model.predict(test,batch_size=n_parts)\n",
    "prediction = decoder.model.predict(z)\n",
    "prediction = np.mean(prediction,axis=0)\n",
    "x_rec = np.round(prediction)"
   ]
  },
  {
   "cell_type": "code",
   "execution_count": 203,
   "metadata": {},
   "outputs": [
    {
     "data": {
      "image/png": "[encoded data removed]",
      "text/plain": [
       "<Figure size 432x288 with 1 Axes>"
      ]
     },
     "metadata": {
      "needs_background": "light"
     },
     "output_type": "display_data"
    },
    {
     "data": {
      "image/png": "[encoded data removed]",
      "text/plain": [
       "<Figure size 432x288 with 1 Axes>"
      ]
     },
     "metadata": {
      "needs_background": "light"
     },
     "output_type": "display_data"
    }
   ],
   "source": [
    "plt.imshow(x_train[0].reshape(28,28))\n",
    "plt.show()\n",
    "plt.imshow(prediction.reshape(28,28))\n",
    "plt.show()"
   ]
  },
  {
   "cell_type": "code",
   "execution_count": 33,
   "metadata": {},
   "outputs": [
    {
     "data": {
      "text/plain": [
       "<tf.Tensor 'dense_2/BiasAdd:0' shape=(50, 32) dtype=float32>"
      ]
     },
     "execution_count": 33,
     "metadata": {},
     "output_type": "execute_result"
    }
   ],
   "source": [
    "#     def build_grad(self):\n",
    "#         grads = []\n",
    "#         for eta in self.model.trainable_weights:\n",
    "#             a = []\n",
    "#             for i in range(self.n_parts):\n",
    "#                 b = []\n",
    "#                 for j in range(self.output_dim):\n",
    "#                     b.append(tf.gradients(self.model.output[i,j],eta))\n",
    "#                 a.append(b)\n",
    "#             grads.append(a)\n",
    "#         return grads\n",
    "\n",
    "#     eta_1 = []\n",
    "#     for i,eta in enumerate(encoder.model.get_weights()):\n",
    "#         a = np.array(eta_grad[i]).reshape(n_parts,latent_dim,-1)\n",
    "#         b = np.array([np.matmul(phi[j,:].reshape(1,latent_dim),a[j,:,:]) for j in range(n_parts)])\n",
    "        \n",
    "#         eta_1.append(eta + epsilon * np.sum(b,axis=0).reshape(eta.shape))\n",
    "#     encoder.model.set_weights(eta_1)"
   ]
  }
 ],
 "metadata": {
  "kernelspec": {
   "display_name": "Python 3",
   "language": "python",
   "name": "python3"
  },
  "language_info": {
   "codemirror_mode": {
    "name": "ipython",
    "version": 3
   },
   "file_extension": ".py",
   "mimetype": "text/x-python",
   "name": "python",
   "nbconvert_exporter": "python",
   "pygments_lexer": "ipython3",
   "version": "3.6.7"
  }
 },
 "nbformat": 4,
 "nbformat_minor": 2
}
