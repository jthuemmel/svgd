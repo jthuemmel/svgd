{
 "cells": [
  {
   "cell_type": "code",
   "execution_count": 52,
   "metadata": {},
   "outputs": [],
   "source": [
    "import numpy as np\n",
    "import matplotlib.pyplot as plt\n",
    "import torch as t\n",
    "import torch.nn as nn\n",
    "import torchvision as tv\n",
    "import os"
   ]
  },
  {
   "cell_type": "code",
   "execution_count": 64,
   "metadata": {},
   "outputs": [],
   "source": [
    "def dynamic_binarization(img):\n",
    "    return t.distributions.bernoulli.Bernoulli(img).sample()"
   ]
  },
  {
   "cell_type": "code",
   "execution_count": 114,
   "metadata": {},
   "outputs": [],
   "source": [
    "path = '/T480/AnacondaProjects/svgd/'\n",
    "train_data = tv.datasets.MNIST(path,train = True,download = True, \n",
    "                               transform = tv.transforms.Compose(\n",
    "                                   [tv.transforms.ToTensor(),tv.transforms.Lambda(dynamic_binarization)]))\n",
    "test_data = tv.datasets.MNIST(path,train = False, download = True, transform = tv.transforms.Compose(\n",
    "                                   [tv.transforms.ToTensor(),tv.transforms.Lambda(dynamic_binarization)]))\n",
    "train_loader = t.utils.data.DataLoader(train_data,batch_size = batch_size, shuffle = True)\n",
    "test_loader = t.utils.data.DataLoader(test_data,batch_size = batch_size, shuffle = True)"
   ]
  },
  {
   "cell_type": "code",
   "execution_count": null,
   "metadata": {},
   "outputs": [],
   "source": [
    "class MLP(nn.Module):\n",
    "    def __init__(self):\n",
    "        super(MLP,self).__init__()\n",
    "        "
   ]
  }
 ],
 "metadata": {
  "kernelspec": {
   "display_name": "Python 3",
   "language": "python",
   "name": "python3"
  },
  "language_info": {
   "codemirror_mode": {
    "name": "ipython",
    "version": 3
   },
   "file_extension": ".py",
   "mimetype": "text/x-python",
   "name": "python",
   "nbconvert_exporter": "python",
   "pygments_lexer": "ipython3",
   "version": "3.6.4"
  }
 },
 "nbformat": 4,
 "nbformat_minor": 2
}
