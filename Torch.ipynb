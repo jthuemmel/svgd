{
 "cells": [
  {
   "cell_type": "code",
   "execution_count": 26,
   "metadata": {},
   "outputs": [],
   "source": [
    "import numpy as np\n",
    "import matplotlib.pyplot as plt\n",
    "import torch as t\n",
    "import torch.nn as nn\n",
    "import torchvision as tv\n",
    "import os"
   ]
  },
  {
   "cell_type": "code",
   "execution_count": 27,
   "metadata": {},
   "outputs": [],
   "source": [
    "from torch.nn.functional import elu, dropout, log_softmax, nll_loss"
   ]
  },
  {
   "cell_type": "code",
   "execution_count": 28,
   "metadata": {},
   "outputs": [],
   "source": [
    "use_gpu = True\n",
    "\n",
    "if use_gpu:\n",
    "    device = t.device('cuda:0')\n",
    "else:\n",
    "    device = t.device('cpu')"
   ]
  },
  {
   "cell_type": "code",
   "execution_count": 29,
   "metadata": {},
   "outputs": [],
   "source": [
    "def dynamic_binarization(img):\n",
    "    return t.distributions.bernoulli.Bernoulli(img).sample()"
   ]
  },
  {
   "cell_type": "code",
   "execution_count": 30,
   "metadata": {},
   "outputs": [],
   "source": [
    "def bce_loss(x_real, x_rec):\n",
    "    return t.sum(x_real * t.log(x_rec+1e-15) + (1 - x_real) * t.log(1 - x_rec + 1e-15))"
   ]
  },
  {
   "cell_type": "code",
   "execution_count": 31,
   "metadata": {},
   "outputs": [],
   "source": [
    "def svgd_kernel(x):\n",
    "    n = t.Tensor([x.size(0)]).to(device)\n",
    "    assert n > 1\n",
    "    \n",
    "    norm = (x ** 2).sum(1).view(-1, 1)\n",
    "    dist_mat = (norm + norm.view(1, -1)) - 2.0 * t.mm(x , x.t())\n",
    "    \n",
    "    h = t.median(dist_mat) / t.log(n)\n",
    "    \n",
    "    kxy = t.exp(- dist_mat / h)\n",
    "    dxkxy = (-t.mm(kxy,x) + t.sum(kxy,1).view(-1,1)*x) / (2*h) \n",
    "    \n",
    "    return kxy, dxkxy"
   ]
  },
  {
   "cell_type": "code",
   "execution_count": 115,
   "metadata": {},
   "outputs": [],
   "source": [
    "path = '/T480/AnacondaProjects/svgd/'\n",
    "\n",
    "\n",
    "train_data = tv.datasets.MNIST(path,train = True,download = True, transform = tv.transforms.Compose(\n",
    "                                   [tv.transforms.CenterCrop(25),\n",
    "                                    tv.transforms.ToTensor(),\n",
    "                                    tv.transforms.Lambda(dynamic_binarization)]))\n",
    "test_data = tv.datasets.MNIST(path,train = False, download = True, transform = tv.transforms.Compose(\n",
    "                                   [tv.transforms.CenterCrop(25),\n",
    "                                    tv.transforms.ToTensor(),\n",
    "                                    tv.transforms.Lambda(dynamic_binarization)]))"
   ]
  },
  {
   "cell_type": "code",
   "execution_count": null,
   "metadata": {},
   "outputs": [],
   "source": []
  },
  {
   "cell_type": "code",
   "execution_count": null,
   "metadata": {},
   "outputs": [],
   "source": []
  },
  {
   "cell_type": "code",
   "execution_count": 33,
   "metadata": {},
   "outputs": [],
   "source": [
    "class cnn_encoder(nn.Module):\n",
    "    def __init__(self,n_hidden,input_dim, output_dim, drop_rate):\n",
    "        super(cnn_encoder,self).__init__()\n",
    "        self.drop_rate = drop_rate\n",
    "        \n",
    "        self.conv1 = nn.Conv2d(1,16,kernel_size = 5,stride = 2)\n",
    "        self.conv2 = nn.Conv2d(16,32,kernel_size = 5,stride = 2)\n",
    "        self.out = nn.Linear(n_hidden,output_dim)\n",
    "        \n",
    "    def forward(self,x):\n",
    "        x = elu(self.conv1(x))\n",
    "        x = dropout(x,self.drop_rate)\n",
    "        x = elu(self.conv2(x))\n",
    "        x = dropout(x,self.drop_rate)\n",
    "        x = x.view(-1,512)\n",
    "        x = self.out(x)\n",
    "        return x\n",
    "    \n",
    "class cnn_decoder(nn.Module):\n",
    "    def __init__(self,n_hidden,input_dim, output_dim, drop_rate):\n",
    "        super(cnn_decoder,self).__init__()\n",
    "        self.drop_rate = drop_rate\n",
    "\n",
    "        self.input = nn.Linear(input_dim, n_hidden)\n",
    "        self.deconv1 = nn.ConvTranspose2d(32,16,kernel_size = 5, stride = 2)\n",
    "        self.deconv2 = nn.ConvTranspose2d(16,1,kernel_size = 5, stride = 2)\n",
    "        \n",
    "    def forward(self,x):\n",
    "        x = self.input(x)\n",
    "        x = dropout(x, self.drop_rate)\n",
    "        x = x.view(-1,32,4,4)\n",
    "        x = elu(self.deconv1(x))\n",
    "        x = dropout(x,self.drop_rate)\n",
    "        x = elu(self.deconv2(x))\n",
    "        x = t.sigmoid(x)\n",
    "        return x"
   ]
  },
  {
   "cell_type": "code",
   "execution_count": 34,
   "metadata": {},
   "outputs": [],
   "source": [
    "class mlp_encoder(nn.Module):\n",
    "    def __init__(self,n_hidden,input_dim, output_dim, drop_rate):\n",
    "        super(mlp_encoder,self).__init__()\n",
    "        \n",
    "        self.drop_rate = drop_rate\n",
    "        \n",
    "        self.hidden = nn.Linear(input_dim,n_hidden)\n",
    "        self.out = nn.Linear(n_hidden,output_dim)\n",
    "    \n",
    "    def forward(self,x):\n",
    "        x = elu(self.hidden(x))\n",
    "        x = dropout(x,self.drop_rate)\n",
    "        x = self.out(x)\n",
    "        return x\n",
    "    \n",
    "class mlp_decoder(nn.Module):\n",
    "    def __init__(self,n_hidden,input_dim, output_dim, drop_rate):\n",
    "        super(mlp_decoder,self).__init__()\n",
    "        \n",
    "        self.drop_rate = drop_rate\n",
    "        \n",
    "        self.hidden = nn.Linear(input_dim,n_hidden)\n",
    "        self.out = nn.Linear(n_hidden, output_dim)\n",
    "        \n",
    "    def forward(self,x):\n",
    "        x = elu(self.hidden(x))\n",
    "        x = dropout(x,self.drop_rate)\n",
    "        x = t.sigmoid(self.out(x))\n",
    "        return x\n",
    "    \n",
    "class classifier(nn.Module):\n",
    "    def __init__(self, n_hidden, input_dim, output_dim, drop_rate):\n",
    "        super(classifier,self).__init__()\n",
    "        \n",
    "        self.drop_rate = drop_rate\n",
    "        \n",
    "        self.hidden = nn.Linear(input_dim, n_hidden)\n",
    "        self.out = nn.Linear(n_hidden, output_dim)\n",
    "    \n",
    "    def forward(self,x):\n",
    "        x = elu(self.hidden(x))\n",
    "        x = dropout(x, self.drop_rate)\n",
    "        x = log_softmax(self.out(x))\n",
    "        return x"
   ]
  },
  {
   "cell_type": "code",
   "execution_count": null,
   "metadata": {},
   "outputs": [],
   "source": []
  },
  {
   "cell_type": "code",
   "execution_count": 48,
   "metadata": {},
   "outputs": [],
   "source": [
    "def train_svgd():\n",
    "    encoder.train()\n",
    "    decoder.train()\n",
    "    for batch_index, (data,target) in enumerate(train_loader):\n",
    "        encoder.zero_grad()\n",
    "        decoder.zero_grad()\n",
    "        \n",
    "        img = data.repeat(n_parts,1,1,1).view(n_parts*batch_size_train, 1, 25,25).to(device)\n",
    "        x = dropout(img, input_drop_rate)\n",
    "        z = encoder(x).squeeze()\n",
    "        \n",
    "        z_for_grad = z.detach().to(device)\n",
    "        z_for_grad.requires_grad = True\n",
    "        x_rec = decoder(z_for_grad)\n",
    "\n",
    "        logpxz = (-1/n_parts) * (bce_loss(img,x_rec)/batch_size_train)\n",
    "        logpxz.backward()\n",
    "        \n",
    "        with t.no_grad():\n",
    "            kzy, dzkzy = svgd_kernel(z_for_grad)\n",
    "            phi = (t.mm(kzy,(-n_parts)*z_for_grad.grad - z_for_grad) + (1. + alpha) * dzkzy)/n_parts\n",
    "            \n",
    "        eta_grad = t.autograd.grad((-1/batch_size_train)*(phi * z).sum(), encoder.parameters())\n",
    "        \n",
    "        enc_opt.step()\n",
    "        dec_opt.step()"
   ]
  },
  {
   "cell_type": "code",
   "execution_count": 294,
   "metadata": {},
   "outputs": [],
   "source": [
    "input_drop_rate = 0.3\n",
    "epochs = 10\n",
    "\n",
    "batch_size_train = 30\n",
    "batch_size_test = 1\n",
    "\n",
    "\n",
    "alpha = 99\n",
    "n_parts = 20\n",
    "n_hidden = 512\n",
    "latent_dim = 32\n",
    "data_dim = [25,25]\n",
    "model_drop_rate = 0.3\n"
   ]
  },
  {
   "cell_type": "code",
   "execution_count": 295,
   "metadata": {},
   "outputs": [],
   "source": [
    "train_loader = t.utils.data.DataLoader(train_data,batch_size = batch_size_train, shuffle = True,pin_memory = use_gpu)\n",
    "test_loader = t.utils.data.DataLoader(test_data,batch_size = batch_size_test, shuffle = True, pin_memory = use_gpu)"
   ]
  },
  {
   "cell_type": "code",
   "execution_count": 296,
   "metadata": {},
   "outputs": [],
   "source": [
    "encoder = cnn_encoder(n_hidden,data_dim,latent_dim,model_drop_rate).to(device)\n",
    "decoder = cnn_decoder(n_hidden,latent_dim,data_dim,model_drop_rate).to(device)\n",
    "\n",
    "enc_opt = t.optim.Adam(encoder.parameters(), lr = 1e-4)\n",
    "dec_opt = t.optim.Adam(decoder.parameters(), lr = 1e-4)\n",
    "for ep in range(epochs):\n",
    "    train_svgd()"
   ]
  },
  {
   "cell_type": "code",
   "execution_count": 361,
   "metadata": {},
   "outputs": [],
   "source": [
    "with t.no_grad():\n",
    "    encoder.eval()\n",
    "    decoder.eval()\n",
    "    data,target = next(iter(test_loader))\n",
    "    x = data[0].repeat(n_parts,1,1,1).view(n_parts, 1,25,25).to(device)\n",
    "    img = dropout(x, input_drop_rate)\n",
    "    z = encoder(img)\n",
    "    x_rec = decoder(z)"
   ]
  },
  {
   "cell_type": "code",
   "execution_count": 362,
   "metadata": {},
   "outputs": [
    {
     "data": {
      "text/plain": [
       "<matplotlib.image.AxesImage at 0x1bc16670e48>"
      ]
     },
     "execution_count": 362,
     "metadata": {},
     "output_type": "execute_result"
    },
    {
     "data": {
      "image/png": "[encoded data removed]",
      "text/plain": [
       "<matplotlib.figure.Figure at 0x1bc1f6eeef0>"
      ]
     },
     "metadata": {},
     "output_type": "display_data"
    },
    {
     "data": {
      "image/png": "[encoded data removed]",
      "text/plain": [
       "<matplotlib.figure.Figure at 0x1bc16630b38>"
      ]
     },
     "metadata": {},
     "output_type": "display_data"
    }
   ],
   "source": [
    "x = x.cpu()\n",
    "x_rec = x_rec.cpu()\n",
    "plt.imshow(x_rec[0].view(25,25))\n",
    "plt.colorbar()\n",
    "plt.figure()\n",
    "plt.imshow(img[0].cpu().view(25,25))"
   ]
  },
  {
   "cell_type": "code",
   "execution_count": null,
   "metadata": {},
   "outputs": [],
   "source": []
  },
  {
   "cell_type": "code",
   "execution_count": null,
   "metadata": {},
   "outputs": [],
   "source": [
    "def train(epoch):\n",
    "    network.train()\n",
    "    for batch_idx, (data, target) in enumerate(train_loader):\n",
    "        optimizer.zero_grad()\n",
    "        output = network(data)\n",
    "        loss = nll_loss(output, target)\n",
    "        loss.backward()\n",
    "        optimizer.step()\n",
    "\n",
    "        if batch_idx % log_interval == 0:\n",
    "            print('Train Epoch: {} [{}/{} ({:.0f}%)]\\tLoss: {:.6f}'.format(\n",
    "            epoch, batch_idx * len(data), len(train_loader.dataset),\n",
    "            100. * batch_idx / len(train_loader), loss.item()))\n",
    "            train_losses.append(loss.item())\n",
    "            train_counter.append(\n",
    "            (batch_idx*64) + ((epoch-1)*len(train_loader.dataset)))\n",
    "            \n",
    "def test():\n",
    "    network.eval()\n",
    "    test_loss = 0\n",
    "    correct = 0\n",
    "    with t.no_grad():\n",
    "        for data, target in test_loader:\n",
    "            output = network(data)\n",
    "            test_loss += nll_loss(output, target, size_average=False).item()\n",
    "            pred = output.data.max(1, keepdim=True)[1]\n",
    "            correct += pred.eq(target.data.view_as(pred)).sum()\n",
    "    test_loss /= len(test_loader.dataset)\n",
    "    test_losses.append(test_loss)\n",
    "    print('\\nTest set: Avg. loss: {:.4f}, Accuracy: {}/{} ({:.0f}%)\\n'.format(\n",
    "    test_loss, correct, len(test_loader.dataset),\n",
    "    100. * correct / len(test_loader.dataset)))"
   ]
  },
  {
   "cell_type": "code",
   "execution_count": null,
   "metadata": {},
   "outputs": [],
   "source": [
    "class CNN(nn.Module):\n",
    "    def __init__(self):\n",
    "        super(CNN,self).__init__()\n",
    "        self.drop_rate = 0.3\n",
    "        \n",
    "        self.conv1 = nn.Conv2d(1,16,kernel_size = 5,stride = 2)\n",
    "        self.conv2 = nn.Conv2d(16,32,kernel_size = 5,stride = 2)\n",
    "        self.dense = nn.Linear(512,512)\n",
    "        self.out = nn.Linear(512,10)\n",
    "        \n",
    "    def forward(self,x):\n",
    "        x = elu(self.conv1(x))\n",
    "        x = dropout(x,self.drop_rate)\n",
    "        x = elu(self.conv2(x))\n",
    "        x = dropout(x,self.drop_rate)\n",
    "        x = x.view(-1,512)\n",
    "        x = elu(self.dense(x))\n",
    "        x = dropout(x,self.drop_rate)\n",
    "        x = log_softmax(self.out(x))\n",
    "        return x"
   ]
  },
  {
   "cell_type": "code",
   "execution_count": null,
   "metadata": {},
   "outputs": [],
   "source": [
    "network = CNN()\n",
    "optimizer = t.optim.Adam(network.parameters())"
   ]
  },
  {
   "cell_type": "code",
   "execution_count": null,
   "metadata": {},
   "outputs": [],
   "source": [
    "train_losses = []\n",
    "train_counter = []\n",
    "test_losses = []\n",
    "test_counter = [i*len(train_loader.dataset) for i in range(n_epochs + 1)]\n",
    "\n",
    "test()\n",
    "for epoch in range(1,n_epochs + 1):\n",
    "    train(epoch)\n",
    "    test()\n",
    "    \n",
    "fig = plt.figure()\n",
    "plt.plot(train_counter, train_losses, color='blue')\n",
    "plt.scatter(test_counter, test_losses, color='red')\n",
    "plt.legend(['Train Loss', 'Test Loss'], loc='upper right')\n",
    "plt.xlabel('number of training examples seen')\n",
    "plt.ylabel('negative log likelihood loss')\n"
   ]
  },
  {
   "cell_type": "code",
   "execution_count": null,
   "metadata": {},
   "outputs": [],
   "source": []
  },
  {
   "cell_type": "code",
   "execution_count": null,
   "metadata": {},
   "outputs": [],
   "source": []
  }
 ],
 "metadata": {
  "kernelspec": {
   "display_name": "Python 3",
   "language": "python",
   "name": "python3"
  },
  "language_info": {
   "codemirror_mode": {
    "name": "ipython",
    "version": 3
   },
   "file_extension": ".py",
   "mimetype": "text/x-python",
   "name": "python",
   "nbconvert_exporter": "python",
   "pygments_lexer": "ipython3",
   "version": "3.6.4"
  }
 },
 "nbformat": 4,
 "nbformat_minor": 2
}
