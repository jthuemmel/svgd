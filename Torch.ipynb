{
 "cells": [
  {
   "cell_type": "code",
   "execution_count": 2,
   "metadata": {},
   "outputs": [],
   "source": [
    "import numpy as np\n",
    "import matplotlib.pyplot as plt\n",
    "import torch as t\n",
    "import torch.nn as nn\n",
    "import torchvision as tv\n",
    "import os"
   ]
  },
  {
   "cell_type": "code",
   "execution_count": 245,
   "metadata": {},
   "outputs": [],
   "source": [
    "from torch.nn.functional import elu, dropout, log_softmax, nll_loss"
   ]
  },
  {
   "cell_type": "code",
   "execution_count": 16,
   "metadata": {},
   "outputs": [],
   "source": [
    "def dynamic_binarization(img):\n",
    "    return t.distributions.bernoulli.Bernoulli(img).sample()"
   ]
  },
  {
   "cell_type": "code",
   "execution_count": 218,
   "metadata": {},
   "outputs": [],
   "source": [
    "def svgd_kernel(x):\n",
    "    n = t.Tensor([x.size(0)])\n",
    "    assert n > 1\n",
    "    \n",
    "    norm = (x ** 2).sum(1).view(-1, 1)\n",
    "    dist_mat = (norm + norm.view(1, -1)) - 2.0 * t.mm(x , x.t())\n",
    "    \n",
    "    h = t.median(dist_mat) / t.log(n)\n",
    "    \n",
    "    kxy = t.exp(- dist_mat / h)\n",
    "    dxkxy = (-t.mm(kxy,x) + t.sum(kxy,1).view(-1,1)*x) / (2*h) \n",
    "    \n",
    "    return kxy, dxkxy"
   ]
  },
  {
   "cell_type": "code",
   "execution_count": 63,
   "metadata": {},
   "outputs": [],
   "source": [
    "path = '/T480/AnacondaProjects/svgd/'\n",
    "batch_size_train = 128\n",
    "batch_size_test = 1000\n",
    "n_epochs = 5\n",
    "log_interval = 100"
   ]
  },
  {
   "cell_type": "code",
   "execution_count": 64,
   "metadata": {},
   "outputs": [],
   "source": [
    "train_data = tv.datasets.MNIST(path,train = True,download = True, \n",
    "                               transform = tv.transforms.Compose(\n",
    "                                   [tv.transforms.ToTensor(),tv.transforms.Lambda(dynamic_binarization)]))\n",
    "test_data = tv.datasets.MNIST(path,train = False, download = True, transform = tv.transforms.Compose(\n",
    "                                   [tv.transforms.ToTensor(),tv.transforms.Lambda(dynamic_binarization)]))\n",
    "train_loader = t.utils.data.DataLoader(train_data,batch_size = batch_size_train, shuffle = True)\n",
    "test_loader = t.utils.data.DataLoader(test_data,batch_size = batch_size_test, shuffle = True)"
   ]
  },
  {
   "cell_type": "code",
   "execution_count": 65,
   "metadata": {},
   "outputs": [],
   "source": [
    "class CNN(nn.Module):\n",
    "    def __init__(self):\n",
    "        super(CNN,self).__init__()\n",
    "        self.drop_rate = 0.3\n",
    "        \n",
    "        self.conv1 = nn.Conv2d(1,16,kernel_size = 5,stride = 2)\n",
    "        self.conv2 = nn.Conv2d(16,32,kernel_size = 5,stride = 2)\n",
    "        self.dense = nn.Linear(512,512)\n",
    "        self.out = nn.Linear(512,10)\n",
    "        \n",
    "    def forward(self,x):\n",
    "        x = elu(self.conv1(x))\n",
    "        x = dropout(x,self.drop_rate)\n",
    "        x = elu(self.conv2(x))\n",
    "        x = dropout(x,self.drop_rate)\n",
    "        x = x.view(-1,512)\n",
    "        x = elu(self.dense(x))\n",
    "        x = dropout(x,self.drop_rate)\n",
    "        x = log_softmax(self.out(x))\n",
    "        return x"
   ]
  },
  {
   "cell_type": "code",
   "execution_count": 341,
   "metadata": {},
   "outputs": [],
   "source": [
    "class cnn_encoder(nn.Module):\n",
    "    def __init__(self,n_hidden,input_dim, output_dim, drop_rate):\n",
    "        super(cnn_encoder,self).__init__()\n",
    "        self.drop_rate = drop_rate\n",
    "        \n",
    "        self.conv1 = nn.Conv2d(1,16,kernel_size = 5,stride = 2)\n",
    "        self.conv2 = nn.Conv2d(16,32,kernel_size = 5,stride = 2)\n",
    "        self.out = nn.Linear(n_hidden,output_dim)\n",
    "        \n",
    "    def forward(self,x):\n",
    "        x = elu(self.conv1(x))\n",
    "        x = dropout(x,self.drop_rate)\n",
    "        x = elu(self.conv2(x))\n",
    "        x = dropout(x,self.drop_rate)\n",
    "        x = x.view(-1,512)\n",
    "        x = self.out(x)\n",
    "        return x\n",
    "    \n",
    "class cnn_decoder(nn.Module):\n",
    "    def __init__(self,n_hidden,input_dim, output_dim, drop_rate):\n",
    "        super(cnn_decoder,self).__init__()\n",
    "        self.drop_rate = drop_rate\n",
    "\n",
    "        self.input = nn.Linear(input_dim, n_hidden)\n",
    "        self.deconv1 = nn.ConvTranspose2d(32,16,kernel_size = 5, stride = 2)\n",
    "        self.deconv2 = nn.ConvTranspose2d(16,1,kernel_size = 5, stride = 2)\n",
    "        \n",
    "    def forward(self,x):\n",
    "        x = self.input(x)\n",
    "        x = dropout(x, self.drop_rate)\n",
    "        x = x.view(-1,32,4,4)\n",
    "        x = elu(self.deconv1(x))\n",
    "        x = dropout(x,self.drop_rate)\n",
    "        x = elu(self.deconv2(x))\n",
    "        x = t.sigmoid(x)\n",
    "        return x"
   ]
  },
  {
   "cell_type": "code",
   "execution_count": 342,
   "metadata": {},
   "outputs": [],
   "source": [
    "encoder = cnn_encoder(512,784,32,0)\n",
    "decoder = cnn_decoder(512,32,784,0)"
   ]
  },
  {
   "cell_type": "code",
   "execution_count": 343,
   "metadata": {},
   "outputs": [],
   "source": [
    "x = t.rand([5,1,28,28])\n",
    "z = encoder(x)\n",
    "x_r = decoder(z)\n"
   ]
  },
  {
   "cell_type": "code",
   "execution_count": 247,
   "metadata": {},
   "outputs": [],
   "source": [
    "class mlp_encoder(nn.Module):\n",
    "    def __init__(self,n_hidden,input_dim, output_dim, drop_rate):\n",
    "        super(mlp_encoder,self).__init__()\n",
    "        \n",
    "        self.drop_rate = drop_rate\n",
    "        \n",
    "        self.hidden = nn.Linear(input_dim,n_hidden)\n",
    "        self.out = nn.Linear(n_hidden,output_dim)\n",
    "    \n",
    "    def forward(self,x):\n",
    "        x = elu(self.hidden(x))\n",
    "        x = dropout(x,self.drop_rate)\n",
    "        x = self.out(x)\n",
    "        return x\n",
    "    \n",
    "class mlp_decoder(nn.Module):\n",
    "    def __init__(self,n_hidden,input_dim, output_dim, drop_rate):\n",
    "        super(mlp_decoder,self).__init__()\n",
    "        \n",
    "        self.drop_rate = drop_rate\n",
    "        \n",
    "        self.hidden = nn.Linear(input_dim,n_hidden)\n",
    "        self.out = nn.Linear(n_hidden, output_dim)\n",
    "        \n",
    "    def forward(self,x):\n",
    "        x = elu(self.hidden(x))\n",
    "        x = dropout(x,self.drop_rate)\n",
    "        x = t.sigmoid(self.out(x))\n",
    "        return x"
   ]
  },
  {
   "cell_type": "code",
   "execution_count": 248,
   "metadata": {},
   "outputs": [],
   "source": [
    "encoder = mlp_encoder(400,784,32,0)\n",
    "decoder = mlp_decoder(400,32,784,0)\n",
    "enc_opt = t.optim.Adam(encoder.parameters())\n",
    "dec_opt = t.optim.Adam(decoder.parameters())"
   ]
  },
  {
   "cell_type": "code",
   "execution_count": null,
   "metadata": {},
   "outputs": [],
   "source": []
  },
  {
   "cell_type": "code",
   "execution_count": null,
   "metadata": {},
   "outputs": [],
   "source": []
  },
  {
   "cell_type": "code",
   "execution_count": null,
   "metadata": {},
   "outputs": [],
   "source": []
  },
  {
   "cell_type": "code",
   "execution_count": null,
   "metadata": {},
   "outputs": [],
   "source": []
  },
  {
   "cell_type": "code",
   "execution_count": 68,
   "metadata": {},
   "outputs": [],
   "source": [
    "def train(epoch):\n",
    "    network.train()\n",
    "    for batch_idx, (data, target) in enumerate(train_loader):\n",
    "        optimizer.zero_grad()\n",
    "        output = network(data)\n",
    "        loss = nll_loss(output, target)\n",
    "        loss.backward()\n",
    "        optimizer.step()\n",
    "\n",
    "        if batch_idx % log_interval == 0:\n",
    "            print('Train Epoch: {} [{}/{} ({:.0f}%)]\\tLoss: {:.6f}'.format(\n",
    "            epoch, batch_idx * len(data), len(train_loader.dataset),\n",
    "            100. * batch_idx / len(train_loader), loss.item()))\n",
    "            train_losses.append(loss.item())\n",
    "            train_counter.append(\n",
    "            (batch_idx*64) + ((epoch-1)*len(train_loader.dataset)))\n",
    "            \n",
    "def test():\n",
    "    network.eval()\n",
    "    test_loss = 0\n",
    "    correct = 0\n",
    "    with t.no_grad():\n",
    "        for data, target in test_loader:\n",
    "            output = network(data)\n",
    "            test_loss += nll_loss(output, target, size_average=False).item()\n",
    "            pred = output.data.max(1, keepdim=True)[1]\n",
    "            correct += pred.eq(target.data.view_as(pred)).sum()\n",
    "    test_loss /= len(test_loader.dataset)\n",
    "    test_losses.append(test_loss)\n",
    "    print('\\nTest set: Avg. loss: {:.4f}, Accuracy: {}/{} ({:.0f}%)\\n'.format(\n",
    "    test_loss, correct, len(test_loader.dataset),\n",
    "    100. * correct / len(test_loader.dataset)))"
   ]
  },
  {
   "cell_type": "code",
   "execution_count": null,
   "metadata": {},
   "outputs": [],
   "source": [
    "network = CNN()\n",
    "optimizer = t.optim.Adam(network.parameters())"
   ]
  },
  {
   "cell_type": "code",
   "execution_count": 70,
   "metadata": {},
   "outputs": [
    {
     "name": "stderr",
     "output_type": "stream",
     "text": [
      "C:\\Users\\T480\\Anaconda3\\envs\\torch\\lib\\site-packages\\ipykernel_launcher.py:18: UserWarning: Implicit dimension choice for log_softmax has been deprecated. Change the call to include dim=X as an argument.\n",
      "C:\\Users\\T480\\Anaconda3\\envs\\torch\\lib\\site-packages\\torch\\nn\\_reduction.py:49: UserWarning: size_average and reduce args will be deprecated, please use reduction='sum' instead.\n",
      "  warnings.warn(warning.format(ret))\n"
     ]
    },
    {
     "name": "stdout",
     "output_type": "stream",
     "text": [
      "\n",
      "Test set: Avg. loss: 2.3105, Accuracy: 911/10000 (9%)\n",
      "\n",
      "Train Epoch: 1 [0/60000 (0%)]\tLoss: 2.305918\n",
      "Train Epoch: 1 [12800/60000 (21%)]\tLoss: 0.618024\n",
      "Train Epoch: 1 [25600/60000 (43%)]\tLoss: 0.343367\n",
      "Train Epoch: 1 [38400/60000 (64%)]\tLoss: 0.191721\n",
      "Train Epoch: 1 [51200/60000 (85%)]\tLoss: 0.304363\n",
      "\n",
      "Test set: Avg. loss: 0.1880, Accuracy: 9399/10000 (93%)\n",
      "\n",
      "Train Epoch: 2 [0/60000 (0%)]\tLoss: 0.153737\n",
      "Train Epoch: 2 [12800/60000 (21%)]\tLoss: 0.209451\n",
      "Train Epoch: 2 [25600/60000 (43%)]\tLoss: 0.113225\n",
      "Train Epoch: 2 [38400/60000 (64%)]\tLoss: 0.134839\n",
      "Train Epoch: 2 [51200/60000 (85%)]\tLoss: 0.188308\n",
      "\n",
      "Test set: Avg. loss: 0.1383, Accuracy: 9572/10000 (95%)\n",
      "\n",
      "Train Epoch: 3 [0/60000 (0%)]\tLoss: 0.088676\n",
      "Train Epoch: 3 [12800/60000 (21%)]\tLoss: 0.178610\n",
      "Train Epoch: 3 [25600/60000 (43%)]\tLoss: 0.047906\n",
      "Train Epoch: 3 [38400/60000 (64%)]\tLoss: 0.153846\n",
      "Train Epoch: 3 [51200/60000 (85%)]\tLoss: 0.130385\n",
      "\n",
      "Test set: Avg. loss: 0.1340, Accuracy: 9597/10000 (95%)\n",
      "\n",
      "Train Epoch: 4 [0/60000 (0%)]\tLoss: 0.140555\n",
      "Train Epoch: 4 [12800/60000 (21%)]\tLoss: 0.084165\n",
      "Train Epoch: 4 [25600/60000 (43%)]\tLoss: 0.126813\n",
      "Train Epoch: 4 [38400/60000 (64%)]\tLoss: 0.123869\n",
      "Train Epoch: 4 [51200/60000 (85%)]\tLoss: 0.140052\n",
      "\n",
      "Test set: Avg. loss: 0.1099, Accuracy: 9647/10000 (96%)\n",
      "\n",
      "Train Epoch: 5 [0/60000 (0%)]\tLoss: 0.065564\n",
      "Train Epoch: 5 [12800/60000 (21%)]\tLoss: 0.103467\n",
      "Train Epoch: 5 [25600/60000 (43%)]\tLoss: 0.160947\n",
      "Train Epoch: 5 [38400/60000 (64%)]\tLoss: 0.146229\n",
      "Train Epoch: 5 [51200/60000 (85%)]\tLoss: 0.122996\n",
      "\n",
      "Test set: Avg. loss: 0.0972, Accuracy: 9700/10000 (97%)\n",
      "\n"
     ]
    }
   ],
   "source": [
    "train_losses = []\n",
    "train_counter = []\n",
    "test_losses = []\n",
    "test_counter = [i*len(train_loader.dataset) for i in range(n_epochs + 1)]\n",
    "\n",
    "test()\n",
    "for epoch in range(1,n_epochs + 1):\n",
    "    train(epoch)\n",
    "    test()\n",
    "    \n",
    "fig = plt.figure()\n",
    "plt.plot(train_counter, train_losses, color='blue')\n",
    "plt.scatter(test_counter, test_losses, color='red')\n",
    "plt.legend(['Train Loss', 'Test Loss'], loc='upper right')\n",
    "plt.xlabel('number of training examples seen')\n",
    "plt.ylabel('negative log likelihood loss')\n"
   ]
  },
  {
   "cell_type": "code",
   "execution_count": null,
   "metadata": {},
   "outputs": [],
   "source": []
  },
  {
   "cell_type": "code",
   "execution_count": null,
   "metadata": {},
   "outputs": [],
   "source": []
  }
 ],
 "metadata": {
  "kernelspec": {
   "display_name": "Python 3",
   "language": "python",
   "name": "python3"
  },
  "language_info": {
   "codemirror_mode": {
    "name": "ipython",
    "version": 3
   },
   "file_extension": ".py",
   "mimetype": "text/x-python",
   "name": "python",
   "nbconvert_exporter": "python",
   "pygments_lexer": "ipython3",
   "version": "3.6.4"
  }
 },
 "nbformat": 4,
 "nbformat_minor": 2
}
